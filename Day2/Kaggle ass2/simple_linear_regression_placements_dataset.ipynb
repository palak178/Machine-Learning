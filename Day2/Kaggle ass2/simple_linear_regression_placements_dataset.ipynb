{
  "cells": [
    {
      "cell_type": "markdown",
      "metadata": {
        "id": "view-in-github",
        "colab_type": "text"
      },
      "source": [
        "<a href=\"https://colab.research.google.com/github/palak178/Machine-Learning/blob/main/Day2/Kaggle%20ass2/simple_linear_regression_placements_dataset.ipynb\" target=\"_parent\"><img src=\"https://colab.research.google.com/assets/colab-badge.svg\" alt=\"Open In Colab\"/></a>"
      ]
    },
    {
      "cell_type": "markdown",
      "id": "453a7915",
      "metadata": {
        "papermill": {
          "duration": 0.034801,
          "end_time": "2022-03-24T11:52:27.549114",
          "exception": false,
          "start_time": "2022-03-24T11:52:27.514313",
          "status": "completed"
        },
        "tags": [],
        "id": "453a7915"
      },
      "source": [
        "Use this dataset to understand simple linear regression. Contain two column Cgpa and Package. Build the model to predict package based on CGPA."
      ]
    },
    {
      "cell_type": "code",
      "execution_count": 1,
      "id": "7f1ee36c",
      "metadata": {
        "execution": {
          "iopub.execute_input": "2022-03-24T11:52:27.629468Z",
          "iopub.status.busy": "2022-03-24T11:52:27.628790Z",
          "iopub.status.idle": "2022-03-24T11:52:27.631603Z",
          "shell.execute_reply": "2022-03-24T11:52:27.630748Z"
        },
        "papermill": {
          "duration": 0.048673,
          "end_time": "2022-03-24T11:52:27.631795",
          "exception": false,
          "start_time": "2022-03-24T11:52:27.583122",
          "status": "completed"
        },
        "tags": [],
        "id": "7f1ee36c"
      },
      "outputs": [],
      "source": [
        "import numpy as np\n",
        "import pandas as pd"
      ]
    },
    {
      "cell_type": "code",
      "execution_count": 2,
      "id": "6735e120",
      "metadata": {
        "execution": {
          "iopub.execute_input": "2022-03-24T11:52:27.701925Z",
          "iopub.status.busy": "2022-03-24T11:52:27.701289Z",
          "iopub.status.idle": "2022-03-24T11:52:27.717914Z",
          "shell.execute_reply": "2022-03-24T11:52:27.717203Z",
          "shell.execute_reply.started": "2022-03-24T11:20:37.667034Z"
        },
        "papermill": {
          "duration": 0.054523,
          "end_time": "2022-03-24T11:52:27.718074",
          "exception": false,
          "start_time": "2022-03-24T11:52:27.663551",
          "status": "completed"
        },
        "tags": [],
        "id": "6735e120"
      },
      "outputs": [],
      "source": [
        "df = pd.read_csv('/content/sample_data/placement.csv')"
      ]
    },
    {
      "cell_type": "code",
      "execution_count": 3,
      "id": "3c61356c",
      "metadata": {
        "execution": {
          "iopub.execute_input": "2022-03-24T11:52:27.788163Z",
          "iopub.status.busy": "2022-03-24T11:52:27.787153Z",
          "iopub.status.idle": "2022-03-24T11:52:27.796199Z",
          "shell.execute_reply": "2022-03-24T11:52:27.796707Z",
          "shell.execute_reply.started": "2022-03-24T11:20:37.886318Z"
        },
        "papermill": {
          "duration": 0.04609,
          "end_time": "2022-03-24T11:52:27.796919",
          "exception": false,
          "start_time": "2022-03-24T11:52:27.750829",
          "status": "completed"
        },
        "tags": [],
        "id": "3c61356c",
        "outputId": "73c08a87-cbf8-4372-d289-ffe55b26f40b",
        "colab": {
          "base_uri": "https://localhost:8080/"
        }
      },
      "outputs": [
        {
          "output_type": "execute_result",
          "data": {
            "text/plain": [
              "(1000, 3)"
            ]
          },
          "metadata": {},
          "execution_count": 3
        }
      ],
      "source": [
        "df.shape"
      ]
    },
    {
      "cell_type": "code",
      "execution_count": 4,
      "id": "fcf8a9a7",
      "metadata": {
        "execution": {
          "iopub.execute_input": "2022-03-24T11:52:27.874596Z",
          "iopub.status.busy": "2022-03-24T11:52:27.873530Z",
          "iopub.status.idle": "2022-03-24T11:52:27.896020Z",
          "shell.execute_reply": "2022-03-24T11:52:27.895164Z",
          "shell.execute_reply.started": "2022-03-24T11:20:38.109097Z"
        },
        "papermill": {
          "duration": 0.066796,
          "end_time": "2022-03-24T11:52:27.896255",
          "exception": false,
          "start_time": "2022-03-24T11:52:27.829459",
          "status": "completed"
        },
        "tags": [],
        "id": "fcf8a9a7",
        "outputId": "41ec6edd-7e93-4952-f120-597456bddd9a",
        "colab": {
          "base_uri": "https://localhost:8080/"
        }
      },
      "outputs": [
        {
          "output_type": "stream",
          "name": "stdout",
          "text": [
            "<class 'pandas.core.frame.DataFrame'>\n",
            "RangeIndex: 1000 entries, 0 to 999\n",
            "Data columns (total 3 columns):\n",
            " #   Column                Non-Null Count  Dtype  \n",
            "---  ------                --------------  -----  \n",
            " 0   cgpa                  1000 non-null   float64\n",
            " 1   placement_exam_marks  1000 non-null   float64\n",
            " 2   placed                1000 non-null   int64  \n",
            "dtypes: float64(2), int64(1)\n",
            "memory usage: 23.6 KB\n"
          ]
        }
      ],
      "source": [
        "df.info()"
      ]
    },
    {
      "cell_type": "markdown",
      "id": "358c1362",
      "metadata": {
        "papermill": {
          "duration": 0.032376,
          "end_time": "2022-03-24T11:52:27.963392",
          "exception": false,
          "start_time": "2022-03-24T11:52:27.931016",
          "status": "completed"
        },
        "tags": [],
        "id": "358c1362"
      },
      "source": [
        "No null values.\n",
        "\n",
        "Target Variable: placement_exam_marks (It actually is the package (LPA))"
      ]
    },
    {
      "cell_type": "code",
      "execution_count": 5,
      "id": "ebdc2b0f",
      "metadata": {
        "execution": {
          "iopub.execute_input": "2022-03-24T11:52:28.037975Z",
          "iopub.status.busy": "2022-03-24T11:52:28.037190Z",
          "iopub.status.idle": "2022-03-24T11:52:29.251271Z",
          "shell.execute_reply": "2022-03-24T11:52:29.250489Z",
          "shell.execute_reply.started": "2022-03-24T11:20:38.538967Z"
        },
        "papermill": {
          "duration": 1.255537,
          "end_time": "2022-03-24T11:52:29.251460",
          "exception": false,
          "start_time": "2022-03-24T11:52:27.995923",
          "status": "completed"
        },
        "tags": [],
        "id": "ebdc2b0f"
      },
      "outputs": [],
      "source": [
        "import matplotlib.pyplot as plt\n",
        "%matplotlib inline\n",
        "import seaborn as sns"
      ]
    },
    {
      "cell_type": "code",
      "execution_count": 6,
      "id": "433027e3",
      "metadata": {
        "execution": {
          "iopub.execute_input": "2022-03-24T11:52:29.332900Z",
          "iopub.status.busy": "2022-03-24T11:52:29.332117Z",
          "iopub.status.idle": "2022-03-24T11:52:29.335393Z",
          "shell.execute_reply": "2022-03-24T11:52:29.335871Z",
          "shell.execute_reply.started": "2022-03-24T11:20:53.478821Z"
        },
        "papermill": {
          "duration": 0.046536,
          "end_time": "2022-03-24T11:52:29.336062",
          "exception": false,
          "start_time": "2022-03-24T11:52:29.289526",
          "status": "completed"
        },
        "tags": [],
        "id": "433027e3",
        "outputId": "53a5d40d-ab2c-48f7-8db2-acbb3ceabb08",
        "colab": {
          "base_uri": "https://localhost:8080/"
        }
      },
      "outputs": [
        {
          "output_type": "execute_result",
          "data": {
            "text/plain": [
              "0    511\n",
              "1    489\n",
              "Name: placed, dtype: int64"
            ]
          },
          "metadata": {},
          "execution_count": 6
        }
      ],
      "source": [
        "df['placed'].value_counts()"
      ]
    },
    {
      "cell_type": "code",
      "execution_count": 7,
      "id": "3861e112",
      "metadata": {
        "execution": {
          "iopub.execute_input": "2022-03-24T11:52:29.408287Z",
          "iopub.status.busy": "2022-03-24T11:52:29.407477Z",
          "iopub.status.idle": "2022-03-24T11:52:29.410837Z",
          "shell.execute_reply": "2022-03-24T11:52:29.411585Z",
          "shell.execute_reply.started": "2022-03-24T11:20:53.737344Z"
        },
        "papermill": {
          "duration": 0.043003,
          "end_time": "2022-03-24T11:52:29.411783",
          "exception": false,
          "start_time": "2022-03-24T11:52:29.368780",
          "status": "completed"
        },
        "tags": [],
        "id": "3861e112",
        "outputId": "7403a43f-5f88-4ee2-9fa3-be948b24ac2b",
        "colab": {
          "base_uri": "https://localhost:8080/"
        }
      },
      "outputs": [
        {
          "output_type": "stream",
          "name": "stdout",
          "text": [
            "4.89 9.12\n"
          ]
        }
      ],
      "source": [
        "print(df['cgpa'].min(), df['cgpa'].max())"
      ]
    },
    {
      "cell_type": "code",
      "execution_count": 8,
      "id": "43fd531e",
      "metadata": {
        "execution": {
          "iopub.execute_input": "2022-03-24T11:52:29.481951Z",
          "iopub.status.busy": "2022-03-24T11:52:29.481317Z",
          "iopub.status.idle": "2022-03-24T11:52:29.645015Z",
          "shell.execute_reply": "2022-03-24T11:52:29.646363Z",
          "shell.execute_reply.started": "2022-03-24T11:21:10.253045Z"
        },
        "papermill": {
          "duration": 0.201943,
          "end_time": "2022-03-24T11:52:29.646667",
          "exception": false,
          "start_time": "2022-03-24T11:52:29.444724",
          "status": "completed"
        },
        "tags": [],
        "id": "43fd531e",
        "outputId": "17346c6b-dc52-4dfa-ddaa-01744e8d92d8",
        "colab": {
          "base_uri": "https://localhost:8080/",
          "height": 351
        }
      },
      "outputs": [
        {
          "output_type": "stream",
          "name": "stderr",
          "text": [
            "/usr/local/lib/python3.7/dist-packages/seaborn/_decorators.py:43: FutureWarning: Pass the following variable as a keyword arg: x. From version 0.12, the only valid positional argument will be `data`, and passing other arguments without an explicit keyword will result in an error or misinterpretation.\n",
            "  FutureWarning\n"
          ]
        },
        {
          "output_type": "execute_result",
          "data": {
            "text/plain": [
              "<matplotlib.axes._subplots.AxesSubplot at 0x7f257c4e8b90>"
            ]
          },
          "metadata": {},
          "execution_count": 8
        },
        {
          "output_type": "display_data",
          "data": {
            "text/plain": [
              "<Figure size 432x288 with 1 Axes>"
            ],
            "image/png": "[encoded data removed]"
          },
          "metadata": {
            "needs_background": "light"
          }
        }
      ],
      "source": [
        "sns.boxplot(df['cgpa'])"
      ]
    },
    {
      "cell_type": "markdown",
      "id": "1c042f7b",
      "metadata": {
        "papermill": {
          "duration": 0.034455,
          "end_time": "2022-03-24T11:52:29.719401",
          "exception": false,
          "start_time": "2022-03-24T11:52:29.684946",
          "status": "completed"
        },
        "tags": [],
        "id": "1c042f7b"
      },
      "source": [
        "The data points below 5.4 and above 8.5 are considered as outliers.\n",
        "Even if these data points are removed, the data isn't distributed linearly."
      ]
    },
    {
      "cell_type": "code",
      "execution_count": 9,
      "id": "7d8749ff",
      "metadata": {
        "execution": {
          "iopub.execute_input": "2022-03-24T11:52:29.816282Z",
          "iopub.status.busy": "2022-03-24T11:52:29.810563Z",
          "iopub.status.idle": "2022-03-24T11:52:29.974037Z",
          "shell.execute_reply": "2022-03-24T11:52:29.973478Z",
          "shell.execute_reply.started": "2022-03-24T11:33:37.116806Z"
        },
        "papermill": {
          "duration": 0.219756,
          "end_time": "2022-03-24T11:52:29.974215",
          "exception": false,
          "start_time": "2022-03-24T11:52:29.754459",
          "status": "completed"
        },
        "tags": [],
        "id": "7d8749ff",
        "outputId": "a14250b2-b9b6-4b29-ea24-6af8d65ab308",
        "colab": {
          "base_uri": "https://localhost:8080/",
          "height": 351
        }
      },
      "outputs": [
        {
          "output_type": "stream",
          "name": "stderr",
          "text": [
            "/usr/local/lib/python3.7/dist-packages/seaborn/_decorators.py:43: FutureWarning: Pass the following variable as a keyword arg: x. From version 0.12, the only valid positional argument will be `data`, and passing other arguments without an explicit keyword will result in an error or misinterpretation.\n",
            "  FutureWarning\n"
          ]
        },
        {
          "output_type": "execute_result",
          "data": {
            "text/plain": [
              "Text(0.5, 0, 'PACKAGE OFFERED')"
            ]
          },
          "metadata": {},
          "execution_count": 9
        },
        {
          "output_type": "display_data",
          "data": {
            "text/plain": [
              "<Figure size 432x288 with 1 Axes>"
            ],
            "image/png": "[encoded data removed]"
          },
          "metadata": {
            "needs_background": "light"
          }
        }
      ],
      "source": [
        "sns.boxplot(df['placement_exam_marks'])\n",
        "plt.xlabel('PACKAGE OFFERED')"
      ]
    },
    {
      "cell_type": "markdown",
      "id": "44489559",
      "metadata": {
        "papermill": {
          "duration": 0.037586,
          "end_time": "2022-03-24T11:52:30.048902",
          "exception": false,
          "start_time": "2022-03-24T11:52:30.011316",
          "status": "completed"
        },
        "tags": [],
        "id": "44489559"
      },
      "source": [
        "Median of the Data is ~28LPA, There are also people who were offered more than 80 LPA."
      ]
    },
    {
      "cell_type": "code",
      "execution_count": 10,
      "id": "4c1423cd",
      "metadata": {
        "execution": {
          "iopub.execute_input": "2022-03-24T11:52:30.132537Z",
          "iopub.status.busy": "2022-03-24T11:52:30.131863Z",
          "iopub.status.idle": "2022-03-24T11:52:30.144975Z",
          "shell.execute_reply": "2022-03-24T11:52:30.144325Z",
          "shell.execute_reply.started": "2022-03-24T11:37:07.876763Z"
        },
        "papermill": {
          "duration": 0.059469,
          "end_time": "2022-03-24T11:52:30.145163",
          "exception": false,
          "start_time": "2022-03-24T11:52:30.085694",
          "status": "completed"
        },
        "tags": [],
        "id": "4c1423cd",
        "outputId": "9f73550b-cc08-4b43-a918-10c2a6409bd9",
        "colab": {
          "base_uri": "https://localhost:8080/",
          "height": 143
        }
      },
      "outputs": [
        {
          "output_type": "execute_result",
          "data": {
            "text/plain": [
              "                          cgpa  placement_exam_marks    placed\n",
              "cgpa                  1.000000             -0.027371  0.027212\n",
              "placement_exam_marks -0.027371              1.000000 -0.025530\n",
              "placed                0.027212             -0.025530  1.000000"
            ],
            "text/html": [
              "\n",
              "  <div id=\"df-a91a7ccf-2329-443e-a8a0-887433b82d4b\">\n",
              "    <div class=\"colab-df-container\">\n",
              "      <div>\n",
              "<style scoped>\n",
              "    .dataframe tbody tr th:only-of-type {\n",
              "        vertical-align: middle;\n",
              "    }\n",
              "\n",
              "    .dataframe tbody tr th {\n",
              "        vertical-align: top;\n",
              "    }\n",
              "\n",
              "    .dataframe thead th {\n",
              "        text-align: right;\n",
              "    }\n",
              "</style>\n",
              "<table border=\"1\" class=\"dataframe\">\n",
              "  <thead>\n",
              "    <tr style=\"text-align: right;\">\n",
              "      <th></th>\n",
              "      <th>cgpa</th>\n",
              "      <th>placement_exam_marks</th>\n",
              "      <th>placed</th>\n",
              "    </tr>\n",
              "  </thead>\n",
              "  <tbody>\n",
              "    <tr>\n",
              "      <th>cgpa</th>\n",
              "      <td>1.000000</td>\n",
              "      <td>-0.027371</td>\n",
              "      <td>0.027212</td>\n",
              "    </tr>\n",
              "    <tr>\n",
              "      <th>placement_exam_marks</th>\n",
              "      <td>-0.027371</td>\n",
              "      <td>1.000000</td>\n",
              "      <td>-0.025530</td>\n",
              "    </tr>\n",
              "    <tr>\n",
              "      <th>placed</th>\n",
              "      <td>0.027212</td>\n",
              "      <td>-0.025530</td>\n",
              "      <td>1.000000</td>\n",
              "    </tr>\n",
              "  </tbody>\n",
              "</table>\n",
              "</div>\n",
              "      <button class=\"colab-df-convert\" onclick=\"convertToInteractive('df-a91a7ccf-2329-443e-a8a0-887433b82d4b')\"\n",
              "              title=\"Convert this dataframe to an interactive table.\"\n",
              "              style=\"display:none;\">\n",
              "        \n",
              "  <svg xmlns=\"http://www.w3.org/2000/svg\" height=\"24px\"viewBox=\"0 0 24 24\"\n",
              "       width=\"24px\">\n",
              "    <path d=\"M0 0h24v24H0V0z\" fill=\"none\"/>\n",
              "    <path d=\"M18.56 5.44l.94 2.06.94-2.06 2.06-.94-2.06-.94-.94-2.06-.94 2.06-2.06.94zm-11 1L8.5 8.5l.94-2.06 2.06-.94-2.06-.94L8.5 2.5l-.94 2.06-2.06.94zm10 10l.94 2.06.94-2.06 2.06-.94-2.06-.94-.94-2.06-.94 2.06-2.06.94z\"/><path d=\"M17.41 7.96l-1.37-1.37c-.4-.4-.92-.59-1.43-.59-.52 0-1.04.2-1.43.59L10.3 9.45l-7.72 7.72c-.78.78-.78 2.05 0 2.83L4 21.41c.39.39.9.59 1.41.59.51 0 1.02-.2 1.41-.59l7.78-7.78 2.81-2.81c.8-.78.8-2.07 0-2.86zM5.41 20L4 18.59l7.72-7.72 1.47 1.35L5.41 20z\"/>\n",
              "  </svg>\n",
              "      </button>\n",
              "      \n",
              "  <style>\n",
              "    .colab-df-container {\n",
              "      display:flex;\n",
              "      flex-wrap:wrap;\n",
              "      gap: 12px;\n",
              "    }\n",
              "\n",
              "    .colab-df-convert {\n",
              "      background-color: #E8F0FE;\n",
              "      border: none;\n",
              "      border-radius: 50%;\n",
              "      cursor: pointer;\n",
              "      display: none;\n",
              "      fill: #1967D2;\n",
              "      height: 32px;\n",
              "      padding: 0 0 0 0;\n",
              "      width: 32px;\n",
              "    }\n",
              "\n",
              "    .colab-df-convert:hover {\n",
              "      background-color: #E2EBFA;\n",
              "      box-shadow: 0px 1px 2px rgba(60, 64, 67, 0.3), 0px 1px 3px 1px rgba(60, 64, 67, 0.15);\n",
              "      fill: #174EA6;\n",
              "    }\n",
              "\n",
              "    [theme=dark] .colab-df-convert {\n",
              "      background-color: #3B4455;\n",
              "      fill: #D2E3FC;\n",
              "    }\n",
              "\n",
              "    [theme=dark] .colab-df-convert:hover {\n",
              "      background-color: #434B5C;\n",
              "      box-shadow: 0px 1px 3px 1px rgba(0, 0, 0, 0.15);\n",
              "      filter: drop-shadow(0px 1px 2px rgba(0, 0, 0, 0.3));\n",
              "      fill: #FFFFFF;\n",
              "    }\n",
              "  </style>\n",
              "\n",
              "      <script>\n",
              "        const buttonEl =\n",
              "          document.querySelector('#df-a91a7ccf-2329-443e-a8a0-887433b82d4b button.colab-df-convert');\n",
              "        buttonEl.style.display =\n",
              "          google.colab.kernel.accessAllowed ? 'block' : 'none';\n",
              "\n",
              "        async function convertToInteractive(key) {\n",
              "          const element = document.querySelector('#df-a91a7ccf-2329-443e-a8a0-887433b82d4b');\n",
              "          const dataTable =\n",
              "            await google.colab.kernel.invokeFunction('convertToInteractive',\n",
              "                                                     [key], {});\n",
              "          if (!dataTable) return;\n",
              "\n",
              "          const docLinkHtml = 'Like what you see? Visit the ' +\n",
              "            '<a target=\"_blank\" href=https://colab.research.google.com/notebooks/data_table.ipynb>data table notebook</a>'\n",
              "            + ' to learn more about interactive tables.';\n",
              "          element.innerHTML = '';\n",
              "          dataTable['output_type'] = 'display_data';\n",
              "          await google.colab.output.renderOutput(dataTable, element);\n",
              "          const docLink = document.createElement('div');\n",
              "          docLink.innerHTML = docLinkHtml;\n",
              "          element.appendChild(docLink);\n",
              "        }\n",
              "      </script>\n",
              "    </div>\n",
              "  </div>\n",
              "  "
            ]
          },
          "metadata": {},
          "execution_count": 10
        }
      ],
      "source": [
        "df.corr()"
      ]
    },
    {
      "cell_type": "markdown",
      "id": "9b0e9731",
      "metadata": {
        "papermill": {
          "duration": 0.037284,
          "end_time": "2022-03-24T11:52:30.219270",
          "exception": false,
          "start_time": "2022-03-24T11:52:30.181986",
          "status": "completed"
        },
        "tags": [],
        "id": "9b0e9731"
      },
      "source": [
        "The CGPA and Placement marks are negatively weakly correlated."
      ]
    },
    {
      "cell_type": "code",
      "execution_count": 11,
      "id": "ebc9c47a",
      "metadata": {
        "execution": {
          "iopub.execute_input": "2022-03-24T11:52:30.328128Z",
          "iopub.status.busy": "2022-03-24T11:52:30.316361Z",
          "iopub.status.idle": "2022-03-24T11:52:30.690548Z",
          "shell.execute_reply": "2022-03-24T11:52:30.691060Z",
          "shell.execute_reply.started": "2022-03-24T11:35:56.104330Z"
        },
        "papermill": {
          "duration": 0.433953,
          "end_time": "2022-03-24T11:52:30.691258",
          "exception": false,
          "start_time": "2022-03-24T11:52:30.257305",
          "status": "completed"
        },
        "tags": [],
        "id": "ebc9c47a",
        "outputId": "587b2b01-27a2-4632-ffaa-2b28279da0c0",
        "colab": {
          "base_uri": "https://localhost:8080/",
          "height": 460
        }
      },
      "outputs": [
        {
          "output_type": "stream",
          "name": "stderr",
          "text": [
            "/usr/local/lib/python3.7/dist-packages/seaborn/_decorators.py:43: FutureWarning: Pass the following variables as keyword args: x, y. From version 0.12, the only valid positional argument will be `data`, and passing other arguments without an explicit keyword will result in an error or misinterpretation.\n",
            "  FutureWarning\n"
          ]
        },
        {
          "output_type": "execute_result",
          "data": {
            "text/plain": [
              "<matplotlib.axes._subplots.AxesSubplot at 0x7f257bf36890>"
            ]
          },
          "metadata": {},
          "execution_count": 11
        },
        {
          "output_type": "display_data",
          "data": {
            "text/plain": [
              "<Figure size 576x432 with 1 Axes>"
            ],
            "image/png": "[encoded data removed]"
          },
          "metadata": {
            "needs_background": "light"
          }
        }
      ],
      "source": [
        "plt.figure(figsize=(8, 6))\n",
        "plt.xlabel('CGPA')\n",
        "plt.ylabel('Package Offered')\n",
        "sns.scatterplot(df['cgpa'], df['placement_exam_marks'], hue=df['placed'])"
      ]
    },
    {
      "cell_type": "markdown",
      "id": "56176721",
      "metadata": {
        "papermill": {
          "duration": 0.041295,
          "end_time": "2022-03-24T11:52:30.774246",
          "exception": false,
          "start_time": "2022-03-24T11:52:30.732951",
          "status": "completed"
        },
        "tags": [],
        "id": "56176721"
      },
      "source": [
        "The data points are scattered almost randomly."
      ]
    },
    {
      "cell_type": "markdown",
      "id": "4a714702",
      "metadata": {
        "papermill": {
          "duration": 0.042216,
          "end_time": "2022-03-24T11:52:30.858071",
          "exception": false,
          "start_time": "2022-03-24T11:52:30.815855",
          "status": "completed"
        },
        "tags": [],
        "id": "4a714702"
      },
      "source": [
        "It is a regression problem as our target variable is placement_exam_marks (numeric variable)."
      ]
    },
    {
      "cell_type": "code",
      "execution_count": 12,
      "id": "6d6d10e2",
      "metadata": {
        "execution": {
          "iopub.execute_input": "2022-03-24T11:52:30.946971Z",
          "iopub.status.busy": "2022-03-24T11:52:30.945993Z",
          "iopub.status.idle": "2022-03-24T11:52:30.950831Z",
          "shell.execute_reply": "2022-03-24T11:52:30.951341Z",
          "shell.execute_reply.started": "2022-03-24T11:50:26.772515Z"
        },
        "papermill": {
          "duration": 0.051566,
          "end_time": "2022-03-24T11:52:30.951559",
          "exception": false,
          "start_time": "2022-03-24T11:52:30.899993",
          "status": "completed"
        },
        "tags": [],
        "id": "6d6d10e2"
      },
      "outputs": [],
      "source": [
        "X = df[['cgpa']]  #, 'placed'"
      ]
    },
    {
      "cell_type": "code",
      "execution_count": 13,
      "id": "61c2e377",
      "metadata": {
        "execution": {
          "iopub.execute_input": "2022-03-24T11:52:31.040628Z",
          "iopub.status.busy": "2022-03-24T11:52:31.039921Z",
          "iopub.status.idle": "2022-03-24T11:52:31.044442Z",
          "shell.execute_reply": "2022-03-24T11:52:31.045055Z",
          "shell.execute_reply.started": "2022-03-24T11:50:27.234127Z"
        },
        "papermill": {
          "duration": 0.051299,
          "end_time": "2022-03-24T11:52:31.045287",
          "exception": false,
          "start_time": "2022-03-24T11:52:30.993988",
          "status": "completed"
        },
        "tags": [],
        "id": "61c2e377"
      },
      "outputs": [],
      "source": [
        "y = df[['placement_exam_marks']]"
      ]
    },
    {
      "cell_type": "code",
      "execution_count": 14,
      "id": "38a329df",
      "metadata": {
        "execution": {
          "iopub.execute_input": "2022-03-24T11:52:31.133605Z",
          "iopub.status.busy": "2022-03-24T11:52:31.132878Z",
          "iopub.status.idle": "2022-03-24T11:52:31.334616Z",
          "shell.execute_reply": "2022-03-24T11:52:31.333852Z",
          "shell.execute_reply.started": "2022-03-24T11:50:27.999695Z"
        },
        "papermill": {
          "duration": 0.24654,
          "end_time": "2022-03-24T11:52:31.334789",
          "exception": false,
          "start_time": "2022-03-24T11:52:31.088249",
          "status": "completed"
        },
        "tags": [],
        "id": "38a329df"
      },
      "outputs": [],
      "source": [
        "from sklearn.model_selection import train_test_split"
      ]
    },
    {
      "cell_type": "code",
      "execution_count": 15,
      "id": "b729f806",
      "metadata": {
        "execution": {
          "iopub.execute_input": "2022-03-24T11:52:31.421940Z",
          "iopub.status.busy": "2022-03-24T11:52:31.421214Z",
          "iopub.status.idle": "2022-03-24T11:52:31.427462Z",
          "shell.execute_reply": "2022-03-24T11:52:31.428056Z",
          "shell.execute_reply.started": "2022-03-24T11:50:28.260463Z"
        },
        "papermill": {
          "duration": 0.051833,
          "end_time": "2022-03-24T11:52:31.428267",
          "exception": false,
          "start_time": "2022-03-24T11:52:31.376434",
          "status": "completed"
        },
        "tags": [],
        "id": "b729f806"
      },
      "outputs": [],
      "source": [
        "X_train,X_test, y_train, y_test = train_test_split(X,y,test_size=0.20, random_state=42)"
      ]
    },
    {
      "cell_type": "code",
      "execution_count": 16,
      "id": "ef94635f",
      "metadata": {
        "execution": {
          "iopub.execute_input": "2022-03-24T11:52:31.513811Z",
          "iopub.status.busy": "2022-03-24T11:52:31.513166Z",
          "iopub.status.idle": "2022-03-24T11:52:31.597253Z",
          "shell.execute_reply": "2022-03-24T11:52:31.596523Z",
          "shell.execute_reply.started": "2022-03-24T11:50:28.522638Z"
        },
        "papermill": {
          "duration": 0.128179,
          "end_time": "2022-03-24T11:52:31.597409",
          "exception": false,
          "start_time": "2022-03-24T11:52:31.469230",
          "status": "completed"
        },
        "tags": [],
        "id": "ef94635f"
      },
      "outputs": [],
      "source": [
        "from sklearn.linear_model import LinearRegression"
      ]
    },
    {
      "cell_type": "code",
      "execution_count": 17,
      "id": "096bd56b",
      "metadata": {
        "execution": {
          "iopub.execute_input": "2022-03-24T11:52:31.684687Z",
          "iopub.status.busy": "2022-03-24T11:52:31.683975Z",
          "iopub.status.idle": "2022-03-24T11:52:31.686703Z",
          "shell.execute_reply": "2022-03-24T11:52:31.686203Z",
          "shell.execute_reply.started": "2022-03-24T11:50:28.752068Z"
        },
        "papermill": {
          "duration": 0.048516,
          "end_time": "2022-03-24T11:52:31.686849",
          "exception": false,
          "start_time": "2022-03-24T11:52:31.638333",
          "status": "completed"
        },
        "tags": [],
        "id": "096bd56b"
      },
      "outputs": [],
      "source": [
        "model= LinearRegression()"
      ]
    },
    {
      "cell_type": "code",
      "execution_count": 18,
      "id": "523e730b",
      "metadata": {
        "execution": {
          "iopub.execute_input": "2022-03-24T11:52:31.776988Z",
          "iopub.status.busy": "2022-03-24T11:52:31.776312Z",
          "iopub.status.idle": "2022-03-24T11:52:31.797258Z",
          "shell.execute_reply": "2022-03-24T11:52:31.797820Z",
          "shell.execute_reply.started": "2022-03-24T11:50:29.038641Z"
        },
        "papermill": {
          "duration": 0.070399,
          "end_time": "2022-03-24T11:52:31.798016",
          "exception": false,
          "start_time": "2022-03-24T11:52:31.727617",
          "status": "completed"
        },
        "tags": [],
        "id": "523e730b",
        "outputId": "95edb01d-4bd1-4d53-dafc-4aa697f8d182",
        "colab": {
          "base_uri": "https://localhost:8080/"
        }
      },
      "outputs": [
        {
          "output_type": "execute_result",
          "data": {
            "text/plain": [
              "LinearRegression()"
            ]
          },
          "metadata": {},
          "execution_count": 18
        }
      ],
      "source": [
        "model.fit(X_train, y_train)"
      ]
    },
    {
      "cell_type": "code",
      "execution_count": 19,
      "id": "505d556b",
      "metadata": {
        "execution": {
          "iopub.execute_input": "2022-03-24T11:52:31.889493Z",
          "iopub.status.busy": "2022-03-24T11:52:31.888706Z",
          "iopub.status.idle": "2022-03-24T11:52:31.890916Z",
          "shell.execute_reply": "2022-03-24T11:52:31.891448Z",
          "shell.execute_reply.started": "2022-03-24T11:50:29.310708Z"
        },
        "papermill": {
          "duration": 0.052179,
          "end_time": "2022-03-24T11:52:31.891629",
          "exception": false,
          "start_time": "2022-03-24T11:52:31.839450",
          "status": "completed"
        },
        "tags": [],
        "id": "505d556b"
      },
      "outputs": [],
      "source": [
        "y_pred = model.predict(X_test)"
      ]
    },
    {
      "cell_type": "code",
      "execution_count": 20,
      "id": "b188130b",
      "metadata": {
        "execution": {
          "iopub.execute_input": "2022-03-24T11:52:31.978843Z",
          "iopub.status.busy": "2022-03-24T11:52:31.978220Z",
          "iopub.status.idle": "2022-03-24T11:52:31.981954Z",
          "shell.execute_reply": "2022-03-24T11:52:31.982533Z",
          "shell.execute_reply.started": "2022-03-24T11:50:29.635779Z"
        },
        "papermill": {
          "duration": 0.049077,
          "end_time": "2022-03-24T11:52:31.982727",
          "exception": false,
          "start_time": "2022-03-24T11:52:31.933650",
          "status": "completed"
        },
        "tags": [],
        "id": "b188130b"
      },
      "outputs": [],
      "source": [
        "from sklearn.metrics import mean_squared_error"
      ]
    },
    {
      "cell_type": "code",
      "execution_count": 21,
      "id": "ed3fb188",
      "metadata": {
        "execution": {
          "iopub.execute_input": "2022-03-24T11:52:32.071884Z",
          "iopub.status.busy": "2022-03-24T11:52:32.071192Z",
          "iopub.status.idle": "2022-03-24T11:52:32.079535Z",
          "shell.execute_reply": "2022-03-24T11:52:32.078948Z",
          "shell.execute_reply.started": "2022-03-24T11:50:29.999486Z"
        },
        "papermill": {
          "duration": 0.053832,
          "end_time": "2022-03-24T11:52:32.079698",
          "exception": false,
          "start_time": "2022-03-24T11:52:32.025866",
          "status": "completed"
        },
        "tags": [],
        "id": "ed3fb188",
        "outputId": "1e3bcb6d-4102-4cca-98fd-ce602c02291a",
        "colab": {
          "base_uri": "https://localhost:8080/"
        }
      },
      "outputs": [
        {
          "output_type": "execute_result",
          "data": {
            "text/plain": [
              "335.0322585022387"
            ]
          },
          "metadata": {},
          "execution_count": 21
        }
      ],
      "source": [
        "mean_squared_error(y_pred, y_test)"
      ]
    },
    {
      "cell_type": "code",
      "execution_count": 22,
      "id": "214b7605",
      "metadata": {
        "execution": {
          "iopub.execute_input": "2022-03-24T11:52:32.172679Z",
          "iopub.status.busy": "2022-03-24T11:52:32.171832Z",
          "iopub.status.idle": "2022-03-24T11:52:32.261790Z",
          "shell.execute_reply": "2022-03-24T11:52:32.261188Z",
          "shell.execute_reply.started": "2022-03-24T11:50:30.339625Z"
        },
        "papermill": {
          "duration": 0.139891,
          "end_time": "2022-03-24T11:52:32.261931",
          "exception": false,
          "start_time": "2022-03-24T11:52:32.122040",
          "status": "completed"
        },
        "tags": [],
        "id": "214b7605"
      },
      "outputs": [],
      "source": [
        "from sklearn.tree import DecisionTreeRegressor"
      ]
    },
    {
      "cell_type": "code",
      "execution_count": 23,
      "id": "12536b78",
      "metadata": {
        "execution": {
          "iopub.execute_input": "2022-03-24T11:52:32.351623Z",
          "iopub.status.busy": "2022-03-24T11:52:32.350946Z",
          "iopub.status.idle": "2022-03-24T11:52:32.354763Z",
          "shell.execute_reply": "2022-03-24T11:52:32.354218Z",
          "shell.execute_reply.started": "2022-03-24T11:51:40.500964Z"
        },
        "papermill": {
          "duration": 0.050664,
          "end_time": "2022-03-24T11:52:32.354914",
          "exception": false,
          "start_time": "2022-03-24T11:52:32.304250",
          "status": "completed"
        },
        "tags": [],
        "id": "12536b78"
      },
      "outputs": [],
      "source": [
        "model_1 = DecisionTreeRegressor(max_leaf_nodes=5)"
      ]
    },
    {
      "cell_type": "code",
      "execution_count": 24,
      "id": "2415835f",
      "metadata": {
        "execution": {
          "iopub.execute_input": "2022-03-24T11:52:32.443572Z",
          "iopub.status.busy": "2022-03-24T11:52:32.442913Z",
          "iopub.status.idle": "2022-03-24T11:52:32.452573Z",
          "shell.execute_reply": "2022-03-24T11:52:32.453188Z",
          "shell.execute_reply.started": "2022-03-24T11:51:40.705013Z"
        },
        "papermill": {
          "duration": 0.055387,
          "end_time": "2022-03-24T11:52:32.453382",
          "exception": false,
          "start_time": "2022-03-24T11:52:32.397995",
          "status": "completed"
        },
        "tags": [],
        "id": "2415835f",
        "outputId": "dffeffe9-cf3a-451f-df56-c7459506459a",
        "colab": {
          "base_uri": "https://localhost:8080/"
        }
      },
      "outputs": [
        {
          "output_type": "execute_result",
          "data": {
            "text/plain": [
              "DecisionTreeRegressor(max_leaf_nodes=5)"
            ]
          },
          "metadata": {},
          "execution_count": 24
        }
      ],
      "source": [
        "model_1.fit(X_train, y_train)"
      ]
    },
    {
      "cell_type": "code",
      "execution_count": 25,
      "id": "1e1438d9",
      "metadata": {
        "execution": {
          "iopub.execute_input": "2022-03-24T11:52:32.541596Z",
          "iopub.status.busy": "2022-03-24T11:52:32.540940Z",
          "iopub.status.idle": "2022-03-24T11:52:32.546757Z",
          "shell.execute_reply": "2022-03-24T11:52:32.547310Z",
          "shell.execute_reply.started": "2022-03-24T11:51:40.924426Z"
        },
        "papermill": {
          "duration": 0.052037,
          "end_time": "2022-03-24T11:52:32.547491",
          "exception": false,
          "start_time": "2022-03-24T11:52:32.495454",
          "status": "completed"
        },
        "tags": [],
        "id": "1e1438d9"
      },
      "outputs": [],
      "source": [
        "y_pred_1 = model_1.predict(X_test)"
      ]
    },
    {
      "cell_type": "code",
      "execution_count": 27,
      "id": "083ef3ca",
      "metadata": {
        "execution": {
          "iopub.execute_input": "2022-03-24T11:52:32.637573Z",
          "iopub.status.busy": "2022-03-24T11:52:32.636508Z",
          "iopub.status.idle": "2022-03-24T11:52:32.644897Z",
          "shell.execute_reply": "2022-03-24T11:52:32.645399Z",
          "shell.execute_reply.started": "2022-03-24T11:51:41.132343Z"
        },
        "papermill": {
          "duration": 0.054861,
          "end_time": "2022-03-24T11:52:32.645605",
          "exception": false,
          "start_time": "2022-03-24T11:52:32.590744",
          "status": "completed"
        },
        "tags": [],
        "id": "083ef3ca",
        "outputId": "f66b4a30-cdc0-4764-b6db-ef25ea73298d",
        "colab": {
          "base_uri": "https://localhost:8080/"
        }
      },
      "outputs": [
        {
          "output_type": "execute_result",
          "data": {
            "text/plain": [
              "326.24928421204817"
            ]
          },
          "metadata": {},
          "execution_count": 27
        }
      ],
      "source": [
        "mean_squared_error(y_pred_1, y_test)"
      ]
    },
    {
      "cell_type": "code",
      "execution_count": null,
      "id": "f2ecc0ea",
      "metadata": {
        "papermill": {
          "duration": 0.042975,
          "end_time": "2022-03-24T11:52:32.732172",
          "exception": false,
          "start_time": "2022-03-24T11:52:32.689197",
          "status": "completed"
        },
        "tags": [],
        "id": "f2ecc0ea"
      },
      "outputs": [],
      "source": [
        ""
      ]
    },
    {
      "cell_type": "code",
      "execution_count": null,
      "id": "061984a7",
      "metadata": {
        "papermill": {
          "duration": 0.043118,
          "end_time": "2022-03-24T11:52:32.819998",
          "exception": false,
          "start_time": "2022-03-24T11:52:32.776880",
          "status": "completed"
        },
        "tags": [],
        "id": "061984a7"
      },
      "outputs": [],
      "source": [
        ""
      ]
    }
  ],
  "metadata": {
    "kernelspec": {
      "display_name": "Python 3",
      "language": "python",
      "name": "python3"
    },
    "language_info": {
      "codemirror_mode": {
        "name": "ipython",
        "version": 3
      },
      "file_extension": ".py",
      "mimetype": "text/x-python",
      "name": "python",
      "nbconvert_exporter": "python",
      "pygments_lexer": "ipython3",
      "version": "3.7.12"
    },
    "papermill": {
      "default_parameters": {},
      "duration": 17.135212,
      "end_time": "2022-03-24T11:52:33.877453",
      "environment_variables": {},
      "exception": null,
      "input_path": "__notebook__.ipynb",
      "output_path": "__notebook__.ipynb",
      "parameters": {},
      "start_time": "2022-03-24T11:52:16.742241",
      "version": "2.3.3"
    },
    "colab": {
      "name": "simple-linear-regression-placements-dataset.ipynb",
      "provenance": [],
      "include_colab_link": true
    }
  },
  "nbformat": 4,
  "nbformat_minor": 5
}