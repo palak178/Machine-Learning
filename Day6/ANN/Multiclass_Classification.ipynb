{
  "nbformat": 4,
  "nbformat_minor": 0,
  "metadata": {
    "colab": {
      "name": " Multiclass Classification.ipynb",
      "provenance": [],
      "include_colab_link": true
    },
    "language_info": {
      "codemirror_mode": {
        "name": "ipython",
        "version": 3
      },
      "file_extension": ".py",
      "mimetype": "text/x-python",
      "name": "python",
      "nbconvert_exporter": "python",
      "pygments_lexer": "ipython3",
      "version": "3.6.1"
    },
    "kernelspec": {
      "display_name": "Python 3",
      "language": "python",
      "name": "python3"
    }
  },
  "cells": [
    {
      "cell_type": "markdown",
      "metadata": {
        "id": "view-in-github",
        "colab_type": "text"
      },
      "source": [
        "<a href=\"https://colab.research.google.com/github/palak178/Machine-Learning/blob/main/Day6/ANN/Multiclass_Classification.ipynb\" target=\"_parent\"><img src=\"https://colab.research.google.com/assets/colab-badge.svg\" alt=\"Open In Colab\"/></a>"
      ]
    },
    {
      "cell_type": "markdown",
      "metadata": {
        "id": "GAmM0ZmzwaXz"
      },
      "source": [
        "#  Importing packages"
      ]
    },
    {
      "cell_type": "code",
      "metadata": {
        "id": "sLL-Z-B1waX1"
      },
      "source": [
        "from __future__ import print_function\n",
        "import keras\n",
        "from keras.models import Sequential\n",
        "from keras.layers import Dense, Dropout, Flatten\n",
        "from keras import backend as K\n",
        "\n",
        "import tensorflow as tf"
      ],
      "execution_count": 1,
      "outputs": []
    },
    {
      "cell_type": "markdown",
      "metadata": {
        "id": "r2huTSawwaX6"
      },
      "source": [
        "# Preparing Dataset"
      ]
    },
    {
      "cell_type": "code",
      "metadata": {
        "id": "xHdqe8agwaX8"
      },
      "source": [
        "# Generate dummy data\n",
        "import numpy as np\n",
        "data = np.random.random((1000, 100))\n",
        "labels = np.random.randint(2, size=(1000, 1))\n",
        "\n",
        "# Convert labels to categorical one-hot encoding\n",
        "labels = tf.keras.utils.to_categorical(labels, num_classes=10)\n",
        "\n",
        "test_data = np.random.random((200, 100))\n",
        "test_labels = np.random.randint(2, size=(200, 1))\n",
        "test_labels = tf.keras.utils.to_categorical(test_labels, num_classes=10)\n",
        "\n",
        "print(test_labels.shape)"
      ],
      "execution_count": null,
      "outputs": []
    },
    {
      "cell_type": "markdown",
      "metadata": {
        "id": "ezvOthJvwaYD"
      },
      "source": [
        "# Building a Model"
      ]
    },
    {
      "cell_type": "code",
      "metadata": {
        "id": "LkTna8tnwaYE"
      },
      "source": [
        "# For a single-input model with 10 classes (categorical classification):\n",
        "\n",
        "model = Sequential()\n",
        "model.add(Dense(32, activation='relu', input_dim=100))\n",
        "model.add(Dense(10, activation='softmax'))\n",
        "model.summary()"
      ],
      "execution_count": null,
      "outputs": []
    },
    {
      "cell_type": "markdown",
      "metadata": {
        "id": "SO9yp25SwaYI"
      },
      "source": [
        "# Compile"
      ]
    },
    {
      "cell_type": "code",
      "metadata": {
        "id": "Qv9B70BMwaYJ",
        "colab": {
          "base_uri": "https://localhost:8080/"
        },
        "outputId": "773c9caf-5119-4591-a5e0-ff67f17ee045"
      },
      "source": [
        "model.compile(optimizer='rmsprop',\n",
        "              loss='categorical_crossentropy',\n",
        "              metrics=['accuracy'])\n",
        "\n",
        "# Train the model, iterating on the data in batches of 32 samples\n",
        "model.fit(data, labels, epochs=10, batch_size=32)"
      ],
      "execution_count": 4,
      "outputs": [
        {
          "output_type": "stream",
          "name": "stdout",
          "text": [
            "Epoch 1/10\n",
            "32/32 [==============================] - 1s 1ms/step - loss: 1.0298 - accuracy: 0.4940\n",
            "Epoch 2/10\n",
            "32/32 [==============================] - 0s 1ms/step - loss: 0.7412 - accuracy: 0.5050\n",
            "Epoch 3/10\n",
            "32/32 [==============================] - 0s 2ms/step - loss: 0.7218 - accuracy: 0.4890\n",
            "Epoch 4/10\n",
            "32/32 [==============================] - 0s 2ms/step - loss: 0.7057 - accuracy: 0.5170\n",
            "Epoch 5/10\n",
            "32/32 [==============================] - 0s 2ms/step - loss: 0.7025 - accuracy: 0.5260\n",
            "Epoch 6/10\n",
            "32/32 [==============================] - 0s 2ms/step - loss: 0.7000 - accuracy: 0.5410\n",
            "Epoch 7/10\n",
            "32/32 [==============================] - 0s 2ms/step - loss: 0.6875 - accuracy: 0.5430\n",
            "Epoch 8/10\n",
            "32/32 [==============================] - 0s 2ms/step - loss: 0.6873 - accuracy: 0.5550\n",
            "Epoch 9/10\n",
            "32/32 [==============================] - 0s 2ms/step - loss: 0.6839 - accuracy: 0.5570\n",
            "Epoch 10/10\n",
            "32/32 [==============================] - 0s 2ms/step - loss: 0.6799 - accuracy: 0.5650\n"
          ]
        },
        {
          "output_type": "execute_result",
          "data": {
            "text/plain": [
              "<keras.callbacks.History at 0x7fcd1b5bf150>"
            ]
          },
          "metadata": {},
          "execution_count": 4
        }
      ]
    },
    {
      "cell_type": "markdown",
      "metadata": {
        "id": "tjp22AA0waYQ"
      },
      "source": [
        "# Evaluate"
      ]
    },
    {
      "cell_type": "code",
      "metadata": {
        "id": "8j2OXeATwaYR",
        "colab": {
          "base_uri": "https://localhost:8080/"
        },
        "outputId": "57e1b6fa-e3c3-4efa-b2cc-b641c06b3f7f"
      },
      "source": [
        "score = model.evaluate(test_data, test_labels, verbose=0)\n",
        "print('Test loss:', score[0])\n",
        "print('Test accuracy:', score[1])"
      ],
      "execution_count": 5,
      "outputs": [
        {
          "output_type": "stream",
          "name": "stdout",
          "text": [
            "Test loss: 0.7585694193840027\n",
            "Test accuracy: 0.5049999952316284\n"
          ]
        }
      ]
    },
    {
      "cell_type": "markdown",
      "metadata": {
        "id": "d00Fw-NhwaYY"
      },
      "source": [
        "# Predict"
      ]
    },
    {
      "cell_type": "code",
      "metadata": {
        "id": "-KOehZdewaYa",
        "colab": {
          "base_uri": "https://localhost:8080/"
        },
        "outputId": "91223581-b5cb-4f83-8aa6-0e5bfcd7fa01"
      },
      "source": [
        "prediction = model.predict(np.random.random((1, 100)))\n",
        "print(prediction)\n",
        "print(sum(prediction[0]))\n",
        "(prediction>0.5)*1"
      ],
      "execution_count": 6,
      "outputs": [
        {
          "output_type": "stream",
          "name": "stdout",
          "text": [
            "[[6.9780153e-01 3.0218986e-01 2.4134226e-06 1.2438902e-07 2.6526732e-07\n",
            "  2.4511060e-06 6.1007614e-07 9.9080967e-07 4.5946908e-07 1.3019811e-06]]\n",
            "1.0000000036497596\n"
          ]
        },
        {
          "output_type": "execute_result",
          "data": {
            "text/plain": [
              "array([[1, 0, 0, 0, 0, 0, 0, 0, 0, 0]])"
            ]
          },
          "metadata": {},
          "execution_count": 6
        }
      ]
    },
    {
      "cell_type": "markdown",
      "metadata": {
        "id": "lt9A0lnowaYh"
      },
      "source": [
        "# Exercise 1\n",
        "### Develop a multiclass classification model for the following. Populate a dataset 2000 samples where 1500 samples for training, 500 samples for testing. The dimension of each sample is 225. Build a neural network model with 64 nodes in first layer with Relu activation and sigmoid activation function for output layer. Run the model for 10 epochs with batch size of 16 samples. Evaluate the model with test data and print accuracy."
      ]
    },
    {
      "cell_type": "markdown",
      "metadata": {
        "id": "IIo6nD50waYi"
      },
      "source": [
        "# Exercise 2\n",
        "### Run the model with different number of epochs such as 10, 15, 20, 25 and compare the accuracies"
      ]
    },
    {
      "cell_type": "markdown",
      "metadata": {
        "id": "ng3jod9IwaYj"
      },
      "source": [
        "# Exercise 3\n",
        "### Run the model with different number of batch sizes such as 2, 4, 8, 16, 32, 64 and compare the accuracies"
      ]
    }
  ]
}